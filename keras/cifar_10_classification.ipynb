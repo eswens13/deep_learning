{
  "nbformat": 4,
  "nbformat_minor": 0,
  "metadata": {
    "colab": {
      "name": "cifar_10_classification.ipynb",
      "version": "0.3.2",
      "provenance": [],
      "include_colab_link": true
    },
    "kernelspec": {
      "name": "python3",
      "display_name": "Python 3"
    },
    "accelerator": "GPU"
  },
  "cells": [
    {
      "cell_type": "markdown",
      "metadata": {
        "id": "view-in-github",
        "colab_type": "text"
      },
      "source": [
        "<a href=\"https://colab.research.google.com/github/eswens13/deep_learning/blob/master/keras/cifar_10_classification.ipynb\" target=\"_parent\"><img src=\"https://colab.research.google.com/assets/colab-badge.svg\" alt=\"Open In Colab\"/></a>"
      ]
    },
    {
      "cell_type": "markdown",
      "metadata": {
        "id": "6z5Ar347Yyn5",
        "colab_type": "text"
      },
      "source": [
        "# CIFAR-10 Classifier/Autoencoder\n",
        "\n",
        "This notebook is an exploratory exercise in convolutional neural networks.  I will build a classifier for the CIFAR-10 image set and play around with network architecture, hyperparameters, visualization techniques, etc. to get hands-on experience coding convolutional neural networks in TensorFlow.\n",
        "\n",
        "I will also explore the differences between a classifier and an auto-encoder."
      ]
    },
    {
      "cell_type": "markdown",
      "metadata": {
        "id": "adTggxluwJQT",
        "colab_type": "text"
      },
      "source": [
        "## Define Network Architecture\n",
        "\n",
        "First, we have to define a network architecture.  The code in the cell below has comments explaining the architecture of each of the layers."
      ]
    },
    {
      "cell_type": "code",
      "metadata": {
        "id": "foT4cF9uqIpv",
        "colab_type": "code",
        "colab": {
          "base_uri": "https://localhost:8080/",
          "height": 34
        },
        "outputId": "c787eef8-66c7-49e4-d309-b0bf4080850e"
      },
      "source": [
        "from keras.models import Sequential\n",
        "from keras.layers import Activation, Conv2D, Dense, Flatten, MaxPooling2D\n",
        "from keras.optimizers import Adam\n",
        "\n",
        "import numpy as np\n",
        "\n",
        "# Build the Keras model\n",
        "def get_keras_model():\n",
        "  \n",
        "  model = Sequential();\n",
        "  num_filters = 32\n",
        "  kernel_size = [3,3]\n",
        "  stride_size = [1,1]\n",
        "  pad_str = 'same'\n",
        "  format_str = 'channels_last'\n",
        "  act_str = 'relu'\n",
        "  \n",
        "  model.add(Conv2D(num_filters, \\\n",
        "                   kernel_size, \\\n",
        "                   strides=stride_size, \\\n",
        "                   padding=pad_str, \\\n",
        "                   data_format=format_str, \\\n",
        "                   use_bias=True, \\\n",
        "                   activation=act_str))\n",
        "  \n",
        "  pool_window = [2,2]\n",
        "  stride_size = [2,2]\n",
        "  pad_str = 'valid'\n",
        "  model.add(MaxPooling2D(pool_size=pool_window, \\\n",
        "                         strides=stride_size, \\\n",
        "                         padding=pad_str, \\\n",
        "                         data_format=format_str))\n",
        "\n",
        "  num_filters = 64\n",
        "  pad_str = 'same'\n",
        "  model.add(Conv2D(num_filters, \\\n",
        "                   kernel_size, \\\n",
        "                   strides=stride_size, \\\n",
        "                   padding=pad_str, \\\n",
        "                   data_format=format_str, \\\n",
        "                   use_bias=True, \\\n",
        "                   activation=act_str))\n",
        "  \n",
        "  pad_str = 'valid'\n",
        "  model.add(MaxPooling2D(pool_size=pool_window, \\\n",
        "                         strides=stride_size, \\\n",
        "                         padding=pad_str, \\\n",
        "                         data_format=format_str))\n",
        "  \n",
        "  num_filters = 128\n",
        "  pad_str = 'same'\n",
        "  model.add(Conv2D(num_filters, \\\n",
        "                   kernel_size, \\\n",
        "                   strides=stride_size, \\\n",
        "                   padding=pad_str, \\\n",
        "                   data_format=format_str, \\\n",
        "                   use_bias=True, \\\n",
        "                   activation=act_str))\n",
        "  \n",
        "  pad_str = 'valid'\n",
        "  model.add(MaxPooling2D(pool_size=pool_window, \\\n",
        "                         strides=stride_size, \\\n",
        "                         padding=pad_str, \\\n",
        "                         data_format=format_str))\n",
        "  \n",
        "  model.add(Flatten(data_format=format_str))\n",
        "  \n",
        "  model.add(Dense(512, activation=act_str, use_bias=True))\n",
        "  model.add(Dense(128, activation=act_str, use_bias=True))\n",
        "  \n",
        "  # Output Layer\n",
        "  model.add(Dense(10, activation=act_str, use_bias=True))\n",
        "  \n",
        "  # Compile the model.\n",
        "  adam = Adam(lr=1e-4)\n",
        "  model.compile(loss='categorical_crossentropy', \\\n",
        "                optimizer=adam, \\\n",
        "                metrics=['accuracy'])\n",
        "  \n",
        "  return model"
      ],
      "execution_count": 1,
      "outputs": [
        {
          "output_type": "stream",
          "text": [
            "Using TensorFlow backend.\n"
          ],
          "name": "stderr"
        }
      ]
    },
    {
      "cell_type": "markdown",
      "metadata": {
        "id": "iw4ep02TeBSX",
        "colab_type": "text"
      },
      "source": [
        "## Bring in Data\n",
        "\n",
        "In order to actually train the model, we need to bring in actual data.  Download the CIFAR-10 dataset and get it into a format that we can use."
      ]
    },
    {
      "cell_type": "code",
      "metadata": {
        "id": "oswKFhE1LjQQ",
        "colab_type": "code",
        "outputId": "1c0bf736-2da7-41a7-ec5a-c75c557f6546",
        "colab": {
          "base_uri": "https://localhost:8080/",
          "height": 119
        }
      },
      "source": [
        "# I'm cheating and using Keras to import the dataset without having to do a lot\n",
        "# of processing myself.\n",
        "from keras.datasets import cifar10\n",
        "from keras.utils.np_utils import to_categorical\n",
        "\n",
        "(X_train, y_train), (X_test, y_test) = cifar10.load_data()\n",
        "\n",
        "# Change the labels to one-hot vectors.\n",
        "y_train = to_categorical(y_train, num_classes=10)\n",
        "y_test = to_categorical(y_test, num_classes=10)\n",
        "\n",
        "# Examine what the data looks like.\n",
        "print(\"X_train shape: {}\".format(X_train.shape))\n",
        "print(\"y_train shape: {}\".format(y_train.shape))\n",
        "print(\"X_test shape: {}\".format(X_test.shape))\n",
        "print(\"y_test shape: {}\".format(y_test.shape))"
      ],
      "execution_count": 2,
      "outputs": [
        {
          "output_type": "stream",
          "text": [
            "Downloading data from https://www.cs.toronto.edu/~kriz/cifar-10-python.tar.gz\n",
            "170500096/170498071 [==============================] - 14s 0us/step\n",
            "X_train shape: (50000, 32, 32, 3)\n",
            "y_train shape: (50000, 10)\n",
            "X_test shape: (10000, 32, 32, 3)\n",
            "y_test shape: (10000, 10)\n"
          ],
          "name": "stdout"
        }
      ]
    },
    {
      "cell_type": "code",
      "metadata": {
        "id": "TwSiivvF7DxC",
        "colab_type": "code",
        "colab": {
          "base_uri": "https://localhost:8080/",
          "height": 272
        },
        "outputId": "9e8f36c1-9085-40e4-f841-d7d03d566582"
      },
      "source": [
        "import os\n",
        "\n",
        "# Get a tool called ngrok to use as a tunnel between my local machine and the\n",
        "# Google Colab server. This will allow us to use TensorBoard to visualize\n",
        "# helpful metrics of the network.\n",
        "#\n",
        "# Tutorial:\n",
        "#   https://www.dlology.com/blog/quick-guide-to-run-tensorboard-in-google-colab/\n",
        "#\n",
        "!wget https://bin.equinox.io/c/4VmDzA7iaHb/ngrok-stable-linux-amd64.zip\n",
        "!unzip ngrok-stable-linux-amd64.zip\n",
        "\n",
        "# Now the ngrok exectuable is extracted to the current directory. Check to make\n",
        "# sure there is a log directory for Keras to use.\n",
        "cwd = os.getcwd()\n",
        "LOG_DIR = os.path.join(cwd, 'log')\n",
        "print(\"Log Dir: {}\".format(LOG_DIR))\n",
        "if not os.path.exists(LOG_DIR):\n",
        "  os.system('mkdir -p {}'.format(LOG_DIR))\n",
        "\n",
        "# Run tensorboard in the background.\n",
        "get_ipython().system_raw(\n",
        "    'tensorboard --logdir {} --host 0.0.0.0 --port 6006 &'\n",
        "    .format(LOG_DIR)\n",
        ")\n",
        "\n",
        "# Tell ngrok (in the background) to tunnel TensorBoard port 6006 to the outside\n",
        "# world.\n",
        "get_ipython().system_raw('./ngrok http 6006 &')\n",
        "\n",
        "# Get the URL that I can use to hook into TensorBoard from my local machine.\n",
        "!curl -s http://localhost:4040/api/tunnels | python3 -c \\\n",
        "    \"import sys, json; print(json.load(sys.stdin)['tunnels'][0]['public_url'])\""
      ],
      "execution_count": 3,
      "outputs": [
        {
          "output_type": "stream",
          "text": [
            "--2019-05-25 02:55:46--  https://bin.equinox.io/c/4VmDzA7iaHb/ngrok-stable-linux-amd64.zip\n",
            "Resolving bin.equinox.io (bin.equinox.io)... 52.73.94.166, 52.4.75.11, 3.214.163.243, ...\n",
            "Connecting to bin.equinox.io (bin.equinox.io)|52.73.94.166|:443... connected.\n",
            "HTTP request sent, awaiting response... 200 OK\n",
            "Length: 16648024 (16M) [application/octet-stream]\n",
            "Saving to: ‘ngrok-stable-linux-amd64.zip’\n",
            "\n",
            "\r          ngrok-sta   0%[                    ]       0  --.-KB/s               \r         ngrok-stab  85%[================>   ]  13.54M  67.7MB/s               \rngrok-stable-linux- 100%[===================>]  15.88M  73.2MB/s    in 0.2s    \n",
            "\n",
            "2019-05-25 02:55:46 (73.2 MB/s) - ‘ngrok-stable-linux-amd64.zip’ saved [16648024/16648024]\n",
            "\n",
            "Archive:  ngrok-stable-linux-amd64.zip\n",
            "  inflating: ngrok                   \n",
            "Log Dir: /content/log\n",
            "https://5b154677.ngrok.io\n"
          ],
          "name": "stdout"
        }
      ]
    },
    {
      "cell_type": "code",
      "metadata": {
        "id": "v-MOQUTGAbXt",
        "colab_type": "code",
        "colab": {}
      },
      "source": [
        "# Create a Keras callback so that it outputs to TensorBoard rather than this\n",
        "# console.\n",
        "from keras.callbacks import TensorBoard\n",
        "\n",
        "tbCallback = TensorBoard(log_dir=LOG_DIR, \\\n",
        "                         histogram_freq=1, \\\n",
        "                         write_graph=False, \\\n",
        "                         write_grads=False, \\\n",
        "                         batch_size=1000, \\\n",
        "                         write_images=False)"
      ],
      "execution_count": 0,
      "outputs": []
    },
    {
      "cell_type": "markdown",
      "metadata": {
        "id": "GGsrpneaF7Gb",
        "colab_type": "text"
      },
      "source": [
        "## Run Training\n",
        "\n",
        "Run the training loop for 100 batches of images (happens fairly fast) and investigate the effectiveness of the network."
      ]
    },
    {
      "cell_type": "code",
      "metadata": {
        "id": "CCSUGYpZk-Cp",
        "colab_type": "code",
        "outputId": "81a7a43b-7e09-460d-a578-bbdbf13412e3",
        "colab": {
          "base_uri": "https://localhost:8080/",
          "height": 513
        }
      },
      "source": [
        "model = get_keras_model()\n",
        "model.fit(X_train, y_train, \\\n",
        "          epochs=10, batch_size=1000, verbose=1, callbacks=[tbCallback], \\\n",
        "          validation_data=(X_test, y_test))"
      ],
      "execution_count": 5,
      "outputs": [
        {
          "output_type": "stream",
          "text": [
            "WARNING:tensorflow:From /usr/local/lib/python3.6/dist-packages/tensorflow/python/framework/op_def_library.py:263: colocate_with (from tensorflow.python.framework.ops) is deprecated and will be removed in a future version.\n",
            "Instructions for updating:\n",
            "Colocations handled automatically by placer.\n",
            "WARNING:tensorflow:From /usr/local/lib/python3.6/dist-packages/tensorflow/python/ops/math_ops.py:3066: to_int32 (from tensorflow.python.ops.math_ops) is deprecated and will be removed in a future version.\n",
            "Instructions for updating:\n",
            "Use tf.cast instead.\n",
            "Train on 50000 samples, validate on 10000 samples\n",
            "Epoch 1/10\n",
            "50000/50000 [==============================] - 6s 122us/step - loss: 2.5816 - acc: 0.1416 - val_loss: 2.2361 - val_acc: 0.1817\n",
            "Epoch 2/10\n",
            "50000/50000 [==============================] - 2s 44us/step - loss: 2.1588 - acc: 0.2356 - val_loss: 2.0523 - val_acc: 0.2610\n",
            "Epoch 3/10\n",
            "50000/50000 [==============================] - 2s 42us/step - loss: 2.1403 - acc: 0.1628 - val_loss: 2.0636 - val_acc: 0.2583\n",
            "Epoch 4/10\n",
            "50000/50000 [==============================] - 2s 40us/step - loss: 2.0238 - acc: 0.2926 - val_loss: 1.9930 - val_acc: 0.3183\n",
            "Epoch 5/10\n",
            "50000/50000 [==============================] - 2s 41us/step - loss: 1.9507 - acc: 0.3233 - val_loss: 1.9527 - val_acc: 0.2800\n",
            "Epoch 6/10\n",
            "50000/50000 [==============================] - 2s 43us/step - loss: 1.9402 - acc: 0.3100 - val_loss: 2.1367 - val_acc: 0.1119\n",
            "Epoch 7/10\n",
            "50000/50000 [==============================] - 2s 40us/step - loss: 1.9802 - acc: 0.2028 - val_loss: 1.9556 - val_acc: 0.3682\n",
            "Epoch 8/10\n",
            "50000/50000 [==============================] - 2s 41us/step - loss: 2.1771 - acc: 0.1670 - val_loss: 2.2441 - val_acc: 0.1223\n",
            "Epoch 9/10\n",
            "50000/50000 [==============================] - 2s 41us/step - loss: 2.1756 - acc: 0.1486 - val_loss: 2.1199 - val_acc: 0.1956\n",
            "Epoch 10/10\n",
            "50000/50000 [==============================] - 2s 40us/step - loss: 2.0252 - acc: 0.2600 - val_loss: 2.0043 - val_acc: 0.2081\n"
          ],
          "name": "stdout"
        },
        {
          "output_type": "execute_result",
          "data": {
            "text/plain": [
              "<keras.callbacks.History at 0x7f92c1e61048>"
            ]
          },
          "metadata": {
            "tags": []
          },
          "execution_count": 5
        }
      ]
    },
    {
      "cell_type": "markdown",
      "metadata": {
        "id": "Ky7MjyB3H9s5",
        "colab_type": "text"
      },
      "source": [
        "## Validate the Network\n",
        "\n",
        "Run the network against the validation data set to evaluate the classification effectiveness."
      ]
    },
    {
      "cell_type": "code",
      "metadata": {
        "id": "OE_JVXrOat0Y",
        "colab_type": "code",
        "outputId": "b3f60efe-83bc-4d11-82ab-7acf1fb5fcee",
        "colab": {
          "base_uri": "https://localhost:8080/",
          "height": 51
        }
      },
      "source": [
        "scores = model.evaluate(X_test, y_test)\n",
        "print(\"Accuracy: {}\".format(scores))"
      ],
      "execution_count": 4,
      "outputs": [
        {
          "output_type": "stream",
          "text": [
            "10000/10000 [==============================] - 1s 69us/step\n",
            "Accuracy: [2.7930280409812926, 0.6548]\n"
          ],
          "name": "stdout"
        }
      ]
    },
    {
      "cell_type": "markdown",
      "metadata": {
        "id": "5aH9pMCtmvqq",
        "colab_type": "text"
      },
      "source": [
        "# What Did I Learn?\n",
        "\n",
        "I had forgotten that \"epoch\" does not mean the same thing as \"batch\".  An epoch is one pass through all of the training data.  The batch size determines how often you update the network weights.  A larger batch sizes means less batches per epochs and less updates.  With a smaller batch size, more backward passes are performed and the epochs take a much longer time."
      ]
    }
  ]
}