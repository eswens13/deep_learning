{
  "nbformat": 4,
  "nbformat_minor": 0,
  "metadata": {
    "colab": {
      "name": "cifar_10_classification.ipynb",
      "version": "0.3.2",
      "provenance": [],
      "include_colab_link": true
    },
    "kernelspec": {
      "name": "python3",
      "display_name": "Python 3"
    },
    "accelerator": "GPU"
  },
  "cells": [
    {
      "cell_type": "markdown",
      "metadata": {
        "id": "view-in-github",
        "colab_type": "text"
      },
      "source": [
        "<a href=\"https://colab.research.google.com/github/eswens13/deep_learning/blob/master/cifar_10_classification.ipynb\" target=\"_parent\"><img src=\"https://colab.research.google.com/assets/colab-badge.svg\" alt=\"Open In Colab\"/></a>"
      ]
    },
    {
      "metadata": {
        "id": "foT4cF9uqIpv",
        "colab_type": "code",
        "colab": {}
      },
      "cell_type": "code",
      "source": [
        "import tensorflow as tf\n",
        "\n",
        "def create_model(input_image):\n",
        "  \"\"\"\n",
        "  Defines the neural network architecture for CIFAR-10 classification.\n",
        "  \n",
        "  Parameters:\n",
        "    input_image - The image to classify. Shape: (32 x 32 x 3)\n",
        "  \"\"\"\n",
        "  input_shape = (1, *input_image.shape)\n",
        "  (N, H, W, C) = input_shape\n",
        "  \n",
        "  with tf.variable_scope(\"conv1\") as scope:\n",
        "    img = tf.placeholder(tf.float64, shape=input_shape)\n",
        "    w = tf.get_variable(\"W\", [H,W,C,16], initializer=tf.random_normal_initializer)\n",
        "    b = tf.get_varialbe(\"b\", [16], initializer=tf.zeros_initializer)\n",
        "    strides = [1, 1, 1, 1]\n",
        "    padding = \"SAME\"\n",
        "    \n",
        "    conv = tf.nn.conv2d(img, w, strides, padding)\n",
        "    conv1 = tf.nn.relu(conv + b, name=scope.name)\n",
        "  \n",
        "  with tf.variable_scope(\"conv2\") as scope:\n",
        "    inputs = tf.placeholder(tf.float64, shape=tf.shape(conv1))\n",
        "    w = tf.get_variable(\"W\", [H,W,16,32], initializer=tf.random_normal_initializer)\n",
        "    b = tf.get_varialbe(\"b\", [32], initializer=tf.zeros_initializer)\n",
        "    strides = [1, 1, 1, 1]\n",
        "    padding = \"VALID\"\n",
        "    \n",
        "    conv = tf.nn.conv2d(inputs, w, strides, padding)\n",
        "    conv2 = tf.nn.relu(conv + b, name=scope.name)\n",
        "    \n",
        "  with tf.Session() as sess:\n",
        "    output = sess.run(conv2)"
      ],
      "execution_count": 0,
      "outputs": []
    },
    {
      "metadata": {
        "id": "9jGb86smxLMp",
        "colab_type": "code",
        "outputId": "bac5ac89-37ed-4cd2-cdbe-6a4491049089",
        "colab": {
          "base_uri": "https://localhost:8080/",
          "height": 34
        }
      },
      "cell_type": "code",
      "source": [
        "import numpy as np\n",
        "\n",
        "input_image = np.arange(36).reshape(3, 4, 3)\n",
        "create_model(input_image)"
      ],
      "execution_count": 0,
      "outputs": [
        {
          "output_type": "stream",
          "text": [
            "Input shape: (1, 3, 4, 3)\n"
          ],
          "name": "stdout"
        }
      ]
    },
    {
      "metadata": {
        "id": "73ahynPixjrN",
        "colab_type": "code",
        "colab": {}
      },
      "cell_type": "code",
      "source": [
        ""
      ],
      "execution_count": 0,
      "outputs": []
    }
  ]
}