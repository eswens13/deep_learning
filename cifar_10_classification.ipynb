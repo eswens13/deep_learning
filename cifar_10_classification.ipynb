{
  "nbformat": 4,
  "nbformat_minor": 0,
  "metadata": {
    "colab": {
      "name": "cifar_10_classification.ipynb",
      "version": "0.3.2",
      "provenance": [],
      "include_colab_link": true
    },
    "kernelspec": {
      "name": "python3",
      "display_name": "Python 3"
    },
    "accelerator": "GPU"
  },
  "cells": [
    {
      "cell_type": "markdown",
      "metadata": {
        "id": "view-in-github",
        "colab_type": "text"
      },
      "source": [
        "<a href=\"https://colab.research.google.com/github/eswens13/deep_learning/blob/master/cifar_10_classification.ipynb\" target=\"_parent\"><img src=\"https://colab.research.google.com/assets/colab-badge.svg\" alt=\"Open In Colab\"/></a>"
      ]
    },
    {
      "cell_type": "markdown",
      "metadata": {
        "id": "6z5Ar347Yyn5",
        "colab_type": "text"
      },
      "source": [
        "# CIFAR-10 Classifier/Autoencoder\n",
        "\n",
        "This notebook is an exploratory exercise in convolutional neural networks.  I will build a classifier for the CIFAR-10 image set and play around with network architecture, hyperparameters, visualization techniques, etc. to get hands-on experience coding convolutional neural networks in TensorFlow.\n",
        "\n",
        "I will also explore the differences between a classifier and an auto-encoder."
      ]
    },
    {
      "cell_type": "markdown",
      "metadata": {
        "id": "adTggxluwJQT",
        "colab_type": "text"
      },
      "source": [
        "## Define Network Architecture\n",
        "\n",
        "First, we have to define a network architecture.  The code in the cell below has comments explaining the architecture of each of the layers."
      ]
    },
    {
      "cell_type": "code",
      "metadata": {
        "id": "foT4cF9uqIpv",
        "colab_type": "code",
        "colab": {}
      },
      "source": [
        "import tensorflow as tf\n",
        "\n",
        "def forward_pass_core(img_batch, classes):\n",
        "  \"\"\"\n",
        "  Defines the neural network architecture for CIFAR-10 classification.\n",
        "  \n",
        "  Parameters:\n",
        "    - img_batch: A batch of images to classify, as a Tensor object.\n",
        "                 Shape: (N x 32 x 32 x 3)\n",
        "    - classes:   The labels for each image, as a Tensor object.\n",
        "                 Shape: (N, 10)\n",
        "  \"\"\"\n",
        "  [N, H, W, C] = img_batch.get_shape().as_list()\n",
        "  \n",
        "  # Convolutional Layer 1:\n",
        "  #    - Input shape: (N, 32, 32, 3)\n",
        "  #    - 16 3x3 filters\n",
        "  #    - Zero-pad input to keep same feature map dimensions\n",
        "  #    - ReLU activation\n",
        "  #    - Output shape: (N, 32, 32, 16)\n",
        "  with tf.variable_scope(\"conv1\", reuse=tf.AUTO_REUSE) as scope:\n",
        "    filter_shape_conv1 = (3, 3)\n",
        "    filters_conv1 = 16\n",
        "    w_conv1 = tf.get_variable(\"W\", \\\n",
        "                              [filter_shape_conv1[0], \\\n",
        "                                filter_shape_conv1[1], \\\n",
        "                                C, \\\n",
        "                                filters_conv1], \\\n",
        "                              initializer=tf.random_normal_initializer)\n",
        "    b_conv1 = tf.get_variable(\"b\", \\\n",
        "                              [filters_conv1], \\\n",
        "                              initializer=tf.zeros_initializer)\n",
        "    strides = [1, 1, 1, 1]\n",
        "    padding = \"SAME\"\n",
        "    \n",
        "    conv_conv1 = tf.nn.conv2d(img_batch, w_conv1, strides, padding)\n",
        "    out1 = tf.nn.relu(conv_conv1 + b_conv1, name=scope.name)\n",
        "  \n",
        "  # Convolutional Layer 2:\n",
        "  #    - Input shape: (N, 32, 32, 16)\n",
        "  #    - 32 3x3 filters\n",
        "  #    - Lose a pixel off each side because of convolution.\n",
        "  #    - ReLU activation\n",
        "  #    - Output shape: (N, 30, 30, 32)\n",
        "  with tf.variable_scope(\"conv2\", reuse=tf.AUTO_REUSE) as scope:\n",
        "    filter_shape_conv2 = (3, 3)\n",
        "    filters_conv2 = 32\n",
        "    w_conv2 = tf.get_variable(\"W\", \\\n",
        "                              [filter_shape_conv2[0], \\\n",
        "                                filter_shape_conv2[1], \\\n",
        "                                filters_conv1, \\\n",
        "                                filters_conv2], \\\n",
        "                              initializer=tf.random_normal_initializer)\n",
        "    b_conv2 = tf.get_variable(\"b\", \\\n",
        "                              [filters_conv2], \\\n",
        "                              initializer=tf.zeros_initializer)\n",
        "    strides = [1, 1, 1, 1]\n",
        "    padding = \"VALID\"\n",
        "    \n",
        "    conv_conv2 = tf.nn.conv2d(out1, w_conv2, strides, padding)\n",
        "    out2 = tf.nn.relu(conv_conv2 + b_conv2, name=scope.name)\n",
        "  \n",
        "  # Convolutional Layer 3:\n",
        "  #    - Input shape: (N, 30, 30, 32)\n",
        "  #    - 64 5x5 filters\n",
        "  #    - Lose two pixels off each side because of convolution.\n",
        "  #    - ReLU activation\n",
        "  #    - Output shape: (N, 26, 26, 64)\n",
        "  with tf.variable_scope(\"conv3\", reuse=tf.AUTO_REUSE) as scope:\n",
        "    filter_shape_conv3 = (5, 5)\n",
        "    filters_conv3 = 64\n",
        "    w_conv3 = tf.get_variable(\"W\", \\\n",
        "                              [filter_shape_conv3[0], \\\n",
        "                                filter_shape_conv3[1], \\\n",
        "                                filters_conv2, \\\n",
        "                                filters_conv3], \\\n",
        "                              initializer=tf.random_normal_initializer)\n",
        "    b_conv3 = tf.get_variable(\"b\", \\\n",
        "                              [filters_conv3], \\\n",
        "                              initializer=tf.zeros_initializer)\n",
        "    strides = [1, 1, 1, 1]\n",
        "    padding = \"VALID\"\n",
        "    \n",
        "    conv_conv3 = tf.nn.conv2d(out2, w_conv3, strides, padding)\n",
        "    out3 = tf.nn.relu(conv_conv3 + b_conv3, name=scope.name)\n",
        "  \n",
        "    # Since this is the last convolutional layer, we need to \"flatten\" the\n",
        "    # output into a one dimensional vector (well, really a one-dimensional\n",
        "    # vector per input image).\n",
        "    flat_out = tf.reshape(out3, [N, -1])\n",
        "    neurons_flat = flat_out.get_shape().as_list()[1]\n",
        "  \n",
        "  # Dense Layer 1:\n",
        "  #    - Input shape: (N, (26 * 26 * 64))\n",
        "  #    - Neurons: 512\n",
        "  #    - ReLU activation\n",
        "  #    - Ouput shape: (N, 512)\n",
        "  with tf.variable_scope(\"dense1\", reuse=tf.AUTO_REUSE) as scope:\n",
        "    neurons_dense1 = 512\n",
        "    w_dense1 = tf.get_variable(\"W\", \\\n",
        "                               [neurons_flat, neurons_dense1], \\\n",
        "                               initializer=tf.random_normal_initializer)\n",
        "    b_dense1 = tf.get_variable(\"b\", \\\n",
        "                               [neurons_dense1], \\\n",
        "                               initializer=tf.zeros_initializer)\n",
        "    mul_dense1 = tf.matmul(flat_out, w_dense1)\n",
        "    out_dense1 = tf.nn.relu(mul_dense1 + b_dense1, name=scope.name)\n",
        "  \n",
        "  # Dense Layer 2:\n",
        "  #    - Input shape: (N, 512)\n",
        "  #    - Neurons: 128\n",
        "  #    - ReLU activation\n",
        "  #    - Ouput shape: (N, 128)\n",
        "  with tf.variable_scope(\"dense2\", reuse=tf.AUTO_REUSE) as scope:\n",
        "    neurons_dense2 = 128\n",
        "    w_dense2 = tf.get_variable(\"W\", \\\n",
        "                               [neurons_dense1, neurons_dense2], \\\n",
        "                               initializer=tf.random_normal_initializer)\n",
        "    b_dense2 = tf.get_variable(\"b\", \\\n",
        "                                [neurons_dense2], \\\n",
        "                                initializer=tf.zeros_initializer)\n",
        "    mul_dense2 = tf.matmul(out_dense1, w_dense2)\n",
        "    out_dense2 = tf.nn.relu(mul_dense2 + b_dense2, name=scope.name)\n",
        "    \n",
        "  with tf.variable_scope(\"dense3\", reuse=tf.AUTO_REUSE) as scope:\n",
        "    n_classes = 10\n",
        "    w_dense3 = tf.get_variable(\"W\", \\\n",
        "                               [neurons_dense2, n_classes], \\\n",
        "                               initializer=tf.random_normal_initializer)\n",
        "    b_dense3 = tf.get_variable(\"b\", \\\n",
        "                                [n_classes], \\\n",
        "                                initializer=tf.zeros_initializer)\n",
        "    mul_dense3 = tf.matmul(out_dense2, w_dense3)\n",
        "    out_dense3 = mul_dense3 + b_dense3\n",
        "  \n",
        "  return out_dense3\n",
        "\n",
        "def forward_pass_train(img_batch, classes):\n",
        "  print(\"forward_pass_train\")\n",
        "  \n",
        "  # Get the output from the core of the network.\n",
        "  out_dense3 = forward_pass_core(img_batch, classes)\n",
        "  \n",
        "  # Add a Softmax layer with the cross entropy loss.\n",
        "  with tf.variable_scope(\"softmax_train\") as scope:\n",
        "    # The reduce_mean takes the mean in a given axis, thereby reducing the\n",
        "    # the dimensions of the tensor. If no axis is given, it takes the mean of\n",
        "    # the entire tensor.\n",
        "    #\n",
        "    # The softmax_cross_entropy_with_logits_v2 function calculates the softmax\n",
        "    # cross entropy loss without requiring us to convert the outputs of the last\n",
        "    # dense layer into probabilities first. (The 'logits' are raw outputs of the\n",
        "    # aforementioned outputs.)\n",
        "    softmax_out = tf.nn.softmax_cross_entropy_with_logits_v2( \\\n",
        "                      labels=tf.stop_gradient(classes), logits=out_dense3)\n",
        "\n",
        "    # Calculate the accuracy of the network on the batch of training data.\n",
        "    predictions = tf.argmax(out_dense3, axis=1)\n",
        "    ground_truth = tf.argmax(classes, axis=1)\n",
        "    acc = tf.metrics.accuracy(ground_truth, predictions) # Using this function\n",
        "                                                         # requires initializing\n",
        "                                                         # local variables as\n",
        "                                                         # well as global.\n",
        "    \n",
        "    # Calculate the loss on the batch of training data.\n",
        "    loss = tf.reduce_mean(softmax_out)\n",
        "  \n",
        "  return loss, acc\n",
        "\n",
        "def forward_pass_test(img_batch, classes):\n",
        "  print(\"forward_pass_test\")\n",
        "  \n",
        "  # Get the output from the core of the network.\n",
        "  out_dense3 = forward_pass_core(img_batch, classes)\n",
        "  \n",
        "  # Add a Softmax layer to get the core.\n",
        "  with tf.variable_scope(\"softmax_test\") as scope:\n",
        "    # The reduce_mean takes the mean in a given axis, thereby reducing the\n",
        "    # the dimensions of the tensor. If no axis is given, it takes the mean of\n",
        "    # the entire tensor.\n",
        "    #\n",
        "    # The softmax_cross_entropy_with_logits_v2 function calculates the softmax\n",
        "    # cross entropy loss without requiring us to convert the outputs of the last\n",
        "    # dense layer into probabilities first. (The 'logits' are raw outputs of the\n",
        "    # aforementioned outputs.)\n",
        "    softmax_out = tf.nn.softmax(logits=out_dense3)\n",
        "  \n",
        "  return softmax_out"
      ],
      "execution_count": 0,
      "outputs": []
    },
    {
      "cell_type": "markdown",
      "metadata": {
        "id": "oYdNDESBQPqa",
        "colab_type": "text"
      },
      "source": [
        "## Training Setup\n",
        "\n",
        "Now that we've defined a network architecture, we need to set up a training loop to map how the network will be updated.  We need to choose an optimizer and set up backpropagation."
      ]
    },
    {
      "cell_type": "code",
      "metadata": {
        "id": "rU1UppagQA_n",
        "colab_type": "code",
        "colab": {}
      },
      "source": [
        "import matplotlib.pyplot as plt\n",
        "\n",
        "def train_batch(img_batch, labels, optimizer):\n",
        "  \"\"\"\n",
        "  Trains the network (forward pass followed by backpropagation) on a batch of\n",
        "  images.\n",
        "  \n",
        "  Parameters:\n",
        "    - img_batch: A batch of input images, as a Tensor object.\n",
        "                 Shape: (N, H, W, C)\n",
        "    - labels:    The labels for each input image in the batch, as a Tensor.\n",
        "                 Shape: (N, 10)\n",
        "    - optimizer: A TF Optimizer object that performs the backpropagation.\n",
        "  \"\"\"\n",
        "  loss, acc = forward_pass_train(img_batch, labels)\n",
        "  opt = optimizer.minimize(loss)\n",
        "  return loss, opt, acc"
      ],
      "execution_count": 0,
      "outputs": []
    },
    {
      "cell_type": "markdown",
      "metadata": {
        "id": "8scLrYSed0AU",
        "colab_type": "text"
      },
      "source": [
        "Here, we simulate a single batch of data just to verify that forward and backward pass run without issue."
      ]
    },
    {
      "cell_type": "code",
      "metadata": {
        "id": "9jGb86smxLMp",
        "colab_type": "code",
        "outputId": "eca332db-ecb6-4807-b605-3e01977d0dae",
        "colab": {
          "base_uri": "https://localhost:8080/",
          "height": 51
        }
      },
      "source": [
        "import numpy as np\n",
        "\n",
        "# Reset the graph so we don't have variable collisions when we re-run.\n",
        "tf.reset_default_graph()\n",
        "\n",
        "# Simulate a batch of 32 images (each 32 x 32 pixels RBG)\n",
        "input_image = np.zeros((32, 32, 32, 3))\n",
        "\n",
        "# Simulate a batch of labels for the input images.\n",
        "input_labels = np.zeros((32, 10))\n",
        "for i in range(input_labels.shape[0]):\n",
        "  input_labels[i][i % 10] = 1\n",
        "\n",
        "# Create a placeholder for the input tensor (to be passed to the model).\n",
        "img = tf.placeholder(tf.float32, shape=input_image.shape)\n",
        "\n",
        "# Create a placeholder for the corresponding labels.\n",
        "img_labels = tf.placeholder(tf.float32, shape=input_labels.shape)\n",
        "\n",
        "# Create an optimizer that will manage the backpropagation.\n",
        "optimizer = tf.train.AdamOptimizer(learning_rate=1e-3)\n",
        "\n",
        "# Run a single training loop.\n",
        "loss, backprop, acc = train_batch(img, img_labels, optimizer)\n",
        "\n",
        "# Create the TF session and run the graph.\n",
        "with tf.Session() as sess:\n",
        "  # Initialize all the variables according to their initializers.\n",
        "  sess.run(tf.global_variables_initializer())\n",
        "  sess.run(tf.local_variables_initializer())\n",
        "\n",
        "  # This call starts the chain of operations in the computation graph created\n",
        "  # above.\n",
        "  loss_output = sess.run(loss, feed_dict={img: input_image, \\\n",
        "                                          img_labels: input_labels})\n",
        "  \n",
        "  opt_output = sess.run(backprop, feed_dict={img: input_image, \\\n",
        "                                             img_labels: input_labels})\n",
        "  \n",
        "  stuff = sess.run(acc, feed_dict={img: input_image, \\\n",
        "                                   img_labels: input_labels})\n",
        "  \n",
        "  print(\"Output: {}\".format(loss_output))"
      ],
      "execution_count": 25,
      "outputs": [
        {
          "output_type": "stream",
          "text": [
            "forward_pass_train\n",
            "Output: 2.3025851249694824\n"
          ],
          "name": "stdout"
        }
      ]
    },
    {
      "cell_type": "markdown",
      "metadata": {
        "id": "iw4ep02TeBSX",
        "colab_type": "text"
      },
      "source": [
        "## Bring in Data\n",
        "\n",
        "In order to actually train the model, we need to bring in actual data.  Download the CIFAR-10 dataset and get it into a format that we can use."
      ]
    },
    {
      "cell_type": "code",
      "metadata": {
        "id": "oswKFhE1LjQQ",
        "colab_type": "code",
        "outputId": "a0775866-f935-4b79-8dab-d59dad56d419",
        "colab": {
          "base_uri": "https://localhost:8080/",
          "height": 136
        }
      },
      "source": [
        "# I'm cheating and using Keras to import the dataset without having to do a lot\n",
        "# of processing myself.\n",
        "from keras.datasets import cifar10\n",
        "from keras.utils.np_utils import to_categorical\n",
        "\n",
        "(X_train, y_train), (X_test, y_test) = cifar10.load_data()\n",
        "\n",
        "# Change the labels to one-hot vectors.\n",
        "y_train = to_categorical(y_train, num_classes=10)\n",
        "y_test = to_categorical(y_test, num_classes=10)\n",
        "\n",
        "# Examine what the data looks like.\n",
        "print(\"X_train shape: {}\".format(X_train.shape))\n",
        "print(\"y_train shape: {}\".format(y_train.shape))\n",
        "print(\"X_test shape: {}\".format(X_test.shape))\n",
        "print(\"y_test shape: {}\".format(y_test.shape))"
      ],
      "execution_count": 26,
      "outputs": [
        {
          "output_type": "stream",
          "text": [
            "Using TensorFlow backend.\n"
          ],
          "name": "stderr"
        },
        {
          "output_type": "stream",
          "text": [
            "Downloading data from https://www.cs.toronto.edu/~kriz/cifar-10-python.tar.gz\n",
            "170500096/170498071 [==============================] - 11s 0us/step\n",
            "X_train shape: (50000, 32, 32, 3)\n",
            "y_train shape: (50000, 10)\n",
            "X_test shape: (10000, 32, 32, 3)\n",
            "y_test shape: (10000, 10)\n"
          ],
          "name": "stdout"
        }
      ]
    },
    {
      "cell_type": "code",
      "metadata": {
        "id": "fbLmbPTafmLK",
        "colab_type": "code",
        "colab": {}
      },
      "source": [
        "def training_loop(X, y, val_X, val_y, num_epochs=10, batch_size=128, learning_rate=1e-3):\n",
        "  \"\"\"\n",
        "  Trains a CNN on the CIFAR-10 dataset.\n",
        "  \n",
        "  Parameters:\n",
        "    - X:             The set of training samples to choose from. \n",
        "    - num_epochs:    The number of batches to process.\n",
        "    - num_samples:   The total number of samples to choose from.\n",
        "    - batch_size:    The number of samples in a training batch.\n",
        "    - learning_rate: The learning rate to use during backpropagation.\n",
        "  \"\"\"\n",
        "  num_samples = X.shape[0]\n",
        "  \n",
        "  # Reset the graph so we don't have variable collisions when we re-run.\n",
        "  tf.reset_default_graph()\n",
        "\n",
        "  # Create a placeholder for the input tensor (to be passed to the model).\n",
        "  img = tf.placeholder(tf.float32, \\\n",
        "                       shape=(batch_size, X.shape[1], X.shape[2], X.shape[3]))\n",
        "\n",
        "  # Create a placeholder for the corresponding labels.\n",
        "  img_labels = tf.placeholder(tf.float32, shape=(batch_size, y.shape[1]))\n",
        "\n",
        "  # Create an optimizer that will manage the backpropagation.\n",
        "  optimizer = tf.train.AdamOptimizer(learning_rate=1e-3)\n",
        "\n",
        "  # Run a single training loop.\n",
        "  loss, backprop, batch_acc = train_batch(img, img_labels, optimizer)\n",
        "  \n",
        "  # Create an operation for the test time forward pass.\n",
        "  test_op = forward_pass_test(img, img_labels)\n",
        "  \n",
        "  # Create a vector for the losses from each epoch.\n",
        "  loss_history = []\n",
        "  \n",
        "  # Create a vector for the training accuracy history.\n",
        "  train_acc_history = []\n",
        "  \n",
        "  # Create a vector for the validation accuracy history.\n",
        "  val_acc_history = []\n",
        "\n",
        "  # Create the TF session and run the graph.\n",
        "  with tf.Session() as sess:\n",
        "    # Initialize all the variables according to their initializers.\n",
        "    sess.run(tf.global_variables_initializer())   \n",
        "    sess.run(tf.local_variables_initializer())\n",
        "      \n",
        "    for i in range(num_epochs):\n",
        "      # Randomly select a batch of images from the training set.\n",
        "      inds = np.random.randint(0, num_samples, batch_size)\n",
        "      tr_batch = X[inds]\n",
        "      tr_batch_labels = y[inds]\n",
        "      \n",
        "      # Randomly select a batch of images from the validation set.\n",
        "      val_inds = np.random.randint(0, val_X.shape[0], batch_size)\n",
        "      test_batch = val_X[val_inds]\n",
        "      test_batch_labels = val_y[val_inds]\n",
        "      \n",
        "      # Get the loss using the current weights in the graph. This call starts\n",
        "      # the chain of operations in the computation graph created above.\n",
        "      epoch_loss = sess.run(loss, feed_dict={img: tr_batch, \\\n",
        "                                             img_labels: tr_batch_labels})\n",
        "      \n",
        "      # Get the accuracy on the batch of training samples.\n",
        "      # TODO: Why does train_acc contain two elements?\n",
        "      train_acc = sess.run(batch_acc, feed_dict={img: tr_batch, \\\n",
        "                                                 img_labels: tr_batch_labels})\n",
        "      train_acc_history.append(train_acc[0])\n",
        "      \n",
        "      # TODO: Doesn't this call the forward pass and the backward pass? So am I\n",
        "      #       going through the forward pass twice each epoch?\n",
        "      # Run backpropagation on the graph.\n",
        "      sess.run(backprop, feed_dict={img: tr_batch, \\\n",
        "                                    img_labels: tr_batch_labels})\n",
        "      \n",
        "      # Keep track of the loss.\n",
        "      loss_history.append(epoch_loss)\n",
        "    \n",
        "      # Run the forward pass only to get the accuracy of the trained network.\n",
        "      scores = sess.run(test_op, feed_dict={img: test_batch, \\\n",
        "                                            img_labels: test_batch_labels})\n",
        "      \n",
        "      # TODO: In the first place, the accuracy never gets very high, maybe 30%.\n",
        "      #       Secondly, there is a plateau and then a dip in the accuracy over\n",
        "      #       time. Things to try:\n",
        "      #         - Use dropout (or other form of regularization)\n",
        "      #         - Add max pooling layers after convolution\n",
        "      #         - Mess with kernel sizes, number of feature maps\n",
        "      #         - Possibly reduce the size of the network?\n",
        "      #         - Hyperparameters? (learning rate, etc.)\n",
        "      num_correct = scores.shape[0]\n",
        "      for i in range(scores.shape[0]):\n",
        "        if np.argmax(scores[i]) != np.argmax(test_batch_labels[i]):\n",
        "          num_correct -= 1\n",
        "  \n",
        "      acc = float(num_correct) / float(len(scores))\n",
        "      val_acc_history.append(acc)\n",
        "\n",
        "  # Plot the loss over the whole training episode.\n",
        "  np_thing = np.array(train_acc_history)\n",
        "  font_dict = { 'fontweight' : 'bold' }\n",
        "  plt.title(\"Training Loss\", fontdict=font_dict)\n",
        "  plt.plot(loss_history)\n",
        "  plt.figure()\n",
        "  plt.title(\"Training Accuracy History\", fontdict=font_dict)\n",
        "  plt.plot(train_acc_history)\n",
        "  plt.figure()\n",
        "  plt.title(\"Validation Accuracy History\", fontdict=font_dict)\n",
        "  plt.plot(val_acc_history)"
      ],
      "execution_count": 0,
      "outputs": []
    },
    {
      "cell_type": "markdown",
      "metadata": {
        "id": "GGsrpneaF7Gb",
        "colab_type": "text"
      },
      "source": [
        "## Run Training\n",
        "\n",
        "Run the training loop for 100 batches of images (happens fairly fast) and investigate the effectiveness of the network."
      ]
    },
    {
      "cell_type": "code",
      "metadata": {
        "id": "CCSUGYpZk-Cp",
        "colab_type": "code",
        "outputId": "47743ed7-a5ec-4f94-a184-42dc4e6e8085",
        "colab": {
          "base_uri": "https://localhost:8080/",
          "height": 843
        }
      },
      "source": [
        "training_loop(X_train, y_train, X_test, y_test, num_epochs=100)"
      ],
      "execution_count": 49,
      "outputs": [
        {
          "output_type": "stream",
          "text": [
            "forward_pass_train\n",
            "forward_pass_test\n"
          ],
          "name": "stdout"
        },
        {
          "output_type": "display_data",
          "data": {
            "image/png": "[encoded data removed]",
            "text/plain": [
              "<Figure size 432x288 with 1 Axes>"
            ]
          },
          "metadata": {
            "tags": []
          }
        },
        {
          "output_type": "display_data",
          "data": {
            "image/png": "[encoded data removed]",
            "text/plain": [
              "<Figure size 432x288 with 1 Axes>"
            ]
          },
          "metadata": {
            "tags": []
          }
        },
        {
          "output_type": "display_data",
          "data": {
            "image/png": "[encoded data removed]",
            "text/plain": [
              "<Figure size 432x288 with 1 Axes>"
            ]
          },
          "metadata": {
            "tags": []
          }
        }
      ]
    },
    {
      "cell_type": "markdown",
      "metadata": {
        "id": "Ky7MjyB3H9s5",
        "colab_type": "text"
      },
      "source": [
        "## Validate the Network\n",
        "\n",
        "Run the network against the validation data set to evaluate the classification effectiveness."
      ]
    },
    {
      "cell_type": "code",
      "metadata": {
        "id": "BBVXlbJqIGoZ",
        "colab_type": "code",
        "colab": {}
      },
      "source": [
        "def validate(X, y):\n",
        "  \"\"\"\n",
        "  Validates a CNN trained on the CIFAR-10 dataset.\n",
        "  \n",
        "  Parameters:\n",
        "    - X:    The set of validation samples. \n",
        "    - y:    The ground truth labels for the samples.\n",
        "  \"\"\"\n",
        "\n",
        "  # Create a placeholder for the input tensor (to be passed to the model).\n",
        "  img = tf.placeholder(tf.float32, shape=X.shape)\n",
        "\n",
        "  # Create a placeholder for the corresponding labels.\n",
        "  img_labels = tf.placeholder(tf.float32, shape=y.shape)\n",
        "  \n",
        "  # Create an operation for the test time forward pass.\n",
        "  test_op = forward_pass_test(img, img_labels)\n",
        "\n",
        "  # Create the TF session and run the graph.\n",
        "  with tf.Session() as sess:\n",
        "    # Create a batch of the same size as the network.\n",
        "    batch_size = 128\n",
        "    inds = np.random.randint(0, X.shape[0], batch_size)\n",
        "    batch = X[inds]\n",
        "    batch_labels = y[inds]\n",
        "    \n",
        "    # Get the loss using the current weights in the graph. This call starts\n",
        "    # the chain of operations in the computation graph created above.\n",
        "    labels = sess.run(test_op, feed_dict={img: X, img_labels: y})\n",
        "    \n",
        "    print(\"Output Shape: {}\".format(labels))"
      ],
      "execution_count": 0,
      "outputs": []
    },
    {
      "cell_type": "code",
      "metadata": {
        "id": "OE_JVXrOat0Y",
        "colab_type": "code",
        "outputId": "168cc1d2-161f-473a-b170-d90a2c99dd72",
        "colab": {
          "base_uri": "https://localhost:8080/",
          "height": 2792
        }
      },
      "source": [
        "validate(X_test, y_test)"
      ],
      "execution_count": 0,
      "outputs": [
        {
          "output_type": "stream",
          "text": [
            "forward_pass_test\n"
          ],
          "name": "stdout"
        },
        {
          "output_type": "error",
          "ename": "FailedPreconditionError",
          "evalue": "ignored",
          "traceback": [
            "\u001b[0;31m---------------------------------------------------------------------------\u001b[0m",
            "\u001b[0;31mFailedPreconditionError\u001b[0m                   Traceback (most recent call last)",
            "\u001b[0;32m/usr/local/lib/python3.6/dist-packages/tensorflow/python/client/session.py\u001b[0m in \u001b[0;36m_do_call\u001b[0;34m(self, fn, *args)\u001b[0m\n\u001b[1;32m   1333\u001b[0m     \u001b[0;32mtry\u001b[0m\u001b[0;34m:\u001b[0m\u001b[0;34m\u001b[0m\u001b[0;34m\u001b[0m\u001b[0m\n\u001b[0;32m-> 1334\u001b[0;31m       \u001b[0;32mreturn\u001b[0m \u001b[0mfn\u001b[0m\u001b[0;34m(\u001b[0m\u001b[0;34m*\u001b[0m\u001b[0margs\u001b[0m\u001b[0;34m)\u001b[0m\u001b[0;34m\u001b[0m\u001b[0;34m\u001b[0m\u001b[0m\n\u001b[0m\u001b[1;32m   1335\u001b[0m     \u001b[0;32mexcept\u001b[0m \u001b[0merrors\u001b[0m\u001b[0;34m.\u001b[0m\u001b[0mOpError\u001b[0m \u001b[0;32mas\u001b[0m \u001b[0me\u001b[0m\u001b[0;34m:\u001b[0m\u001b[0;34m\u001b[0m\u001b[0;34m\u001b[0m\u001b[0m\n",
            "\u001b[0;32m/usr/local/lib/python3.6/dist-packages/tensorflow/python/client/session.py\u001b[0m in \u001b[0;36m_run_fn\u001b[0;34m(feed_dict, fetch_list, target_list, options, run_metadata)\u001b[0m\n\u001b[1;32m   1318\u001b[0m       return self._call_tf_sessionrun(\n\u001b[0;32m-> 1319\u001b[0;31m           options, feed_dict, fetch_list, target_list, run_metadata)\n\u001b[0m\u001b[1;32m   1320\u001b[0m \u001b[0;34m\u001b[0m\u001b[0m\n",
            "\u001b[0;32m/usr/local/lib/python3.6/dist-packages/tensorflow/python/client/session.py\u001b[0m in \u001b[0;36m_call_tf_sessionrun\u001b[0;34m(self, options, feed_dict, fetch_list, target_list, run_metadata)\u001b[0m\n\u001b[1;32m   1406\u001b[0m         \u001b[0mself\u001b[0m\u001b[0;34m.\u001b[0m\u001b[0m_session\u001b[0m\u001b[0;34m,\u001b[0m \u001b[0moptions\u001b[0m\u001b[0;34m,\u001b[0m \u001b[0mfeed_dict\u001b[0m\u001b[0;34m,\u001b[0m \u001b[0mfetch_list\u001b[0m\u001b[0;34m,\u001b[0m \u001b[0mtarget_list\u001b[0m\u001b[0;34m,\u001b[0m\u001b[0;34m\u001b[0m\u001b[0;34m\u001b[0m\u001b[0m\n\u001b[0;32m-> 1407\u001b[0;31m         run_metadata)\n\u001b[0m\u001b[1;32m   1408\u001b[0m \u001b[0;34m\u001b[0m\u001b[0m\n",
            "\u001b[0;31mFailedPreconditionError\u001b[0m: Attempting to use uninitialized value dense3/b\n\t [[{{node dense3/b/read}}]]\n\t [[{{node softmax_test/Softmax}}]]",
            "\nDuring handling of the above exception, another exception occurred:\n",
            "\u001b[0;31mFailedPreconditionError\u001b[0m                   Traceback (most recent call last)",
            "\u001b[0;32m<ipython-input-24-1fa46a04e996>\u001b[0m in \u001b[0;36m<module>\u001b[0;34m()\u001b[0m\n\u001b[0;32m----> 1\u001b[0;31m \u001b[0mvalidate\u001b[0m\u001b[0;34m(\u001b[0m\u001b[0mX_test\u001b[0m\u001b[0;34m,\u001b[0m \u001b[0my_test\u001b[0m\u001b[0;34m)\u001b[0m\u001b[0;34m\u001b[0m\u001b[0;34m\u001b[0m\u001b[0m\n\u001b[0m",
            "\u001b[0;32m<ipython-input-23-69f8fc4da788>\u001b[0m in \u001b[0;36mvalidate\u001b[0;34m(X, y)\u001b[0m\n\u001b[1;32m     27\u001b[0m     \u001b[0;31m# Get the loss using the current weights in the graph. This call starts\u001b[0m\u001b[0;34m\u001b[0m\u001b[0;34m\u001b[0m\u001b[0;34m\u001b[0m\u001b[0m\n\u001b[1;32m     28\u001b[0m     \u001b[0;31m# the chain of operations in the computation graph created above.\u001b[0m\u001b[0;34m\u001b[0m\u001b[0;34m\u001b[0m\u001b[0;34m\u001b[0m\u001b[0m\n\u001b[0;32m---> 29\u001b[0;31m     \u001b[0mlabels\u001b[0m \u001b[0;34m=\u001b[0m \u001b[0msess\u001b[0m\u001b[0;34m.\u001b[0m\u001b[0mrun\u001b[0m\u001b[0;34m(\u001b[0m\u001b[0mtest_op\u001b[0m\u001b[0;34m,\u001b[0m \u001b[0mfeed_dict\u001b[0m\u001b[0;34m=\u001b[0m\u001b[0;34m{\u001b[0m\u001b[0mimg\u001b[0m\u001b[0;34m:\u001b[0m \u001b[0mX\u001b[0m\u001b[0;34m,\u001b[0m \u001b[0mimg_labels\u001b[0m\u001b[0;34m:\u001b[0m \u001b[0my\u001b[0m\u001b[0;34m}\u001b[0m\u001b[0;34m)\u001b[0m\u001b[0;34m\u001b[0m\u001b[0;34m\u001b[0m\u001b[0m\n\u001b[0m\u001b[1;32m     30\u001b[0m \u001b[0;34m\u001b[0m\u001b[0m\n\u001b[1;32m     31\u001b[0m     \u001b[0mprint\u001b[0m\u001b[0;34m(\u001b[0m\u001b[0;34m\"Output Shape: {}\"\u001b[0m\u001b[0;34m.\u001b[0m\u001b[0mformat\u001b[0m\u001b[0;34m(\u001b[0m\u001b[0mlabels\u001b[0m\u001b[0;34m)\u001b[0m\u001b[0;34m)\u001b[0m\u001b[0;34m\u001b[0m\u001b[0;34m\u001b[0m\u001b[0m\n",
            "\u001b[0;32m/usr/local/lib/python3.6/dist-packages/tensorflow/python/client/session.py\u001b[0m in \u001b[0;36mrun\u001b[0;34m(self, fetches, feed_dict, options, run_metadata)\u001b[0m\n\u001b[1;32m    927\u001b[0m     \u001b[0;32mtry\u001b[0m\u001b[0;34m:\u001b[0m\u001b[0;34m\u001b[0m\u001b[0;34m\u001b[0m\u001b[0m\n\u001b[1;32m    928\u001b[0m       result = self._run(None, fetches, feed_dict, options_ptr,\n\u001b[0;32m--> 929\u001b[0;31m                          run_metadata_ptr)\n\u001b[0m\u001b[1;32m    930\u001b[0m       \u001b[0;32mif\u001b[0m \u001b[0mrun_metadata\u001b[0m\u001b[0;34m:\u001b[0m\u001b[0;34m\u001b[0m\u001b[0;34m\u001b[0m\u001b[0m\n\u001b[1;32m    931\u001b[0m         \u001b[0mproto_data\u001b[0m \u001b[0;34m=\u001b[0m \u001b[0mtf_session\u001b[0m\u001b[0;34m.\u001b[0m\u001b[0mTF_GetBuffer\u001b[0m\u001b[0;34m(\u001b[0m\u001b[0mrun_metadata_ptr\u001b[0m\u001b[0;34m)\u001b[0m\u001b[0;34m\u001b[0m\u001b[0;34m\u001b[0m\u001b[0m\n",
            "\u001b[0;32m/usr/local/lib/python3.6/dist-packages/tensorflow/python/client/session.py\u001b[0m in \u001b[0;36m_run\u001b[0;34m(self, handle, fetches, feed_dict, options, run_metadata)\u001b[0m\n\u001b[1;32m   1150\u001b[0m     \u001b[0;32mif\u001b[0m \u001b[0mfinal_fetches\u001b[0m \u001b[0;32mor\u001b[0m \u001b[0mfinal_targets\u001b[0m \u001b[0;32mor\u001b[0m \u001b[0;34m(\u001b[0m\u001b[0mhandle\u001b[0m \u001b[0;32mand\u001b[0m \u001b[0mfeed_dict_tensor\u001b[0m\u001b[0;34m)\u001b[0m\u001b[0;34m:\u001b[0m\u001b[0;34m\u001b[0m\u001b[0;34m\u001b[0m\u001b[0m\n\u001b[1;32m   1151\u001b[0m       results = self._do_run(handle, final_targets, final_fetches,\n\u001b[0;32m-> 1152\u001b[0;31m                              feed_dict_tensor, options, run_metadata)\n\u001b[0m\u001b[1;32m   1153\u001b[0m     \u001b[0;32melse\u001b[0m\u001b[0;34m:\u001b[0m\u001b[0;34m\u001b[0m\u001b[0;34m\u001b[0m\u001b[0m\n\u001b[1;32m   1154\u001b[0m       \u001b[0mresults\u001b[0m \u001b[0;34m=\u001b[0m \u001b[0;34m[\u001b[0m\u001b[0;34m]\u001b[0m\u001b[0;34m\u001b[0m\u001b[0;34m\u001b[0m\u001b[0m\n",
            "\u001b[0;32m/usr/local/lib/python3.6/dist-packages/tensorflow/python/client/session.py\u001b[0m in \u001b[0;36m_do_run\u001b[0;34m(self, handle, target_list, fetch_list, feed_dict, options, run_metadata)\u001b[0m\n\u001b[1;32m   1326\u001b[0m     \u001b[0;32mif\u001b[0m \u001b[0mhandle\u001b[0m \u001b[0;32mis\u001b[0m \u001b[0;32mNone\u001b[0m\u001b[0;34m:\u001b[0m\u001b[0;34m\u001b[0m\u001b[0;34m\u001b[0m\u001b[0m\n\u001b[1;32m   1327\u001b[0m       return self._do_call(_run_fn, feeds, fetches, targets, options,\n\u001b[0;32m-> 1328\u001b[0;31m                            run_metadata)\n\u001b[0m\u001b[1;32m   1329\u001b[0m     \u001b[0;32melse\u001b[0m\u001b[0;34m:\u001b[0m\u001b[0;34m\u001b[0m\u001b[0;34m\u001b[0m\u001b[0m\n\u001b[1;32m   1330\u001b[0m       \u001b[0;32mreturn\u001b[0m \u001b[0mself\u001b[0m\u001b[0;34m.\u001b[0m\u001b[0m_do_call\u001b[0m\u001b[0;34m(\u001b[0m\u001b[0m_prun_fn\u001b[0m\u001b[0;34m,\u001b[0m \u001b[0mhandle\u001b[0m\u001b[0;34m,\u001b[0m \u001b[0mfeeds\u001b[0m\u001b[0;34m,\u001b[0m \u001b[0mfetches\u001b[0m\u001b[0;34m)\u001b[0m\u001b[0;34m\u001b[0m\u001b[0;34m\u001b[0m\u001b[0m\n",
            "\u001b[0;32m/usr/local/lib/python3.6/dist-packages/tensorflow/python/client/session.py\u001b[0m in \u001b[0;36m_do_call\u001b[0;34m(self, fn, *args)\u001b[0m\n\u001b[1;32m   1346\u001b[0m           \u001b[0;32mpass\u001b[0m\u001b[0;34m\u001b[0m\u001b[0;34m\u001b[0m\u001b[0m\n\u001b[1;32m   1347\u001b[0m       \u001b[0mmessage\u001b[0m \u001b[0;34m=\u001b[0m \u001b[0merror_interpolation\u001b[0m\u001b[0;34m.\u001b[0m\u001b[0minterpolate\u001b[0m\u001b[0;34m(\u001b[0m\u001b[0mmessage\u001b[0m\u001b[0;34m,\u001b[0m \u001b[0mself\u001b[0m\u001b[0;34m.\u001b[0m\u001b[0m_graph\u001b[0m\u001b[0;34m)\u001b[0m\u001b[0;34m\u001b[0m\u001b[0;34m\u001b[0m\u001b[0m\n\u001b[0;32m-> 1348\u001b[0;31m       \u001b[0;32mraise\u001b[0m \u001b[0mtype\u001b[0m\u001b[0;34m(\u001b[0m\u001b[0me\u001b[0m\u001b[0;34m)\u001b[0m\u001b[0;34m(\u001b[0m\u001b[0mnode_def\u001b[0m\u001b[0;34m,\u001b[0m \u001b[0mop\u001b[0m\u001b[0;34m,\u001b[0m \u001b[0mmessage\u001b[0m\u001b[0;34m)\u001b[0m\u001b[0;34m\u001b[0m\u001b[0;34m\u001b[0m\u001b[0m\n\u001b[0m\u001b[1;32m   1349\u001b[0m \u001b[0;34m\u001b[0m\u001b[0m\n\u001b[1;32m   1350\u001b[0m   \u001b[0;32mdef\u001b[0m \u001b[0m_extend_graph\u001b[0m\u001b[0;34m(\u001b[0m\u001b[0mself\u001b[0m\u001b[0;34m)\u001b[0m\u001b[0;34m:\u001b[0m\u001b[0;34m\u001b[0m\u001b[0;34m\u001b[0m\u001b[0m\n",
            "\u001b[0;31mFailedPreconditionError\u001b[0m: Attempting to use uninitialized value dense3/b\n\t [[node dense3/b/read (defined at <ipython-input-17-c2307d23d0a0>:99) ]]\n\t [[node softmax_test/Softmax (defined at <ipython-input-17-c2307d23d0a0>:141) ]]\n\nCaused by op 'dense3/b/read', defined at:\n  File \"/usr/lib/python3.6/runpy.py\", line 193, in _run_module_as_main\n    \"__main__\", mod_spec)\n  File \"/usr/lib/python3.6/runpy.py\", line 85, in _run_code\n    exec(code, run_globals)\n  File \"/usr/local/lib/python3.6/dist-packages/ipykernel_launcher.py\", line 16, in <module>\n    app.launch_new_instance()\n  File \"/usr/local/lib/python3.6/dist-packages/traitlets/config/application.py\", line 658, in launch_instance\n    app.start()\n  File \"/usr/local/lib/python3.6/dist-packages/ipykernel/kernelapp.py\", line 477, in start\n    ioloop.IOLoop.instance().start()\n  File \"/usr/local/lib/python3.6/dist-packages/tornado/ioloop.py\", line 888, in start\n    handler_func(fd_obj, events)\n  File \"/usr/local/lib/python3.6/dist-packages/tornado/stack_context.py\", line 277, in null_wrapper\n    return fn(*args, **kwargs)\n  File \"/usr/local/lib/python3.6/dist-packages/zmq/eventloop/zmqstream.py\", line 450, in _handle_events\n    self._handle_recv()\n  File \"/usr/local/lib/python3.6/dist-packages/zmq/eventloop/zmqstream.py\", line 480, in _handle_recv\n    self._run_callback(callback, msg)\n  File \"/usr/local/lib/python3.6/dist-packages/zmq/eventloop/zmqstream.py\", line 432, in _run_callback\n    callback(*args, **kwargs)\n  File \"/usr/local/lib/python3.6/dist-packages/tornado/stack_context.py\", line 277, in null_wrapper\n    return fn(*args, **kwargs)\n  File \"/usr/local/lib/python3.6/dist-packages/ipykernel/kernelbase.py\", line 283, in dispatcher\n    return self.dispatch_shell(stream, msg)\n  File \"/usr/local/lib/python3.6/dist-packages/ipykernel/kernelbase.py\", line 235, in dispatch_shell\n    handler(stream, idents, msg)\n  File \"/usr/local/lib/python3.6/dist-packages/ipykernel/kernelbase.py\", line 399, in execute_request\n    user_expressions, allow_stdin)\n  File \"/usr/local/lib/python3.6/dist-packages/ipykernel/ipkernel.py\", line 196, in do_execute\n    res = shell.run_cell(code, store_history=store_history, silent=silent)\n  File \"/usr/local/lib/python3.6/dist-packages/ipykernel/zmqshell.py\", line 533, in run_cell\n    return super(ZMQInteractiveShell, self).run_cell(*args, **kwargs)\n  File \"/usr/local/lib/python3.6/dist-packages/IPython/core/interactiveshell.py\", line 2718, in run_cell\n    interactivity=interactivity, compiler=compiler, result=result)\n  File \"/usr/local/lib/python3.6/dist-packages/IPython/core/interactiveshell.py\", line 2828, in run_ast_nodes\n    if self.run_code(code, result):\n  File \"/usr/local/lib/python3.6/dist-packages/IPython/core/interactiveshell.py\", line 2882, in run_code\n    exec(code_obj, self.user_global_ns, self.user_ns)\n  File \"<ipython-input-22-abb383ed79af>\", line 1, in <module>\n    training_loop(X_train, y_train, num_epochs=100)\n  File \"<ipython-input-21-a8da4239d22c>\", line 27, in training_loop\n    loss, backprop = train_batch(img, img_labels, optimizer)\n  File \"<ipython-input-18-6fa18980660b>\", line 15, in train_batch\n    loss = forward_pass_train(img_batch, labels)\n  File \"<ipython-input-17-c2307d23d0a0>\", line 109, in forward_pass_train\n    out_dense3 = forward_pass_core(img_batch, classes)\n  File \"<ipython-input-17-c2307d23d0a0>\", line 99, in forward_pass_core\n    b_dense3 = tf.get_variable(\"b\",                                 [n_classes],                                 initializer=tf.zeros_initializer)\n  File \"/usr/local/lib/python3.6/dist-packages/tensorflow/python/ops/variable_scope.py\", line 1479, in get_variable\n    aggregation=aggregation)\n  File \"/usr/local/lib/python3.6/dist-packages/tensorflow/python/ops/variable_scope.py\", line 1220, in get_variable\n    aggregation=aggregation)\n  File \"/usr/local/lib/python3.6/dist-packages/tensorflow/python/ops/variable_scope.py\", line 547, in get_variable\n    aggregation=aggregation)\n  File \"/usr/local/lib/python3.6/dist-packages/tensorflow/python/ops/variable_scope.py\", line 499, in _true_getter\n    aggregation=aggregation)\n  File \"/usr/local/lib/python3.6/dist-packages/tensorflow/python/ops/variable_scope.py\", line 911, in _get_single_variable\n    aggregation=aggregation)\n  File \"/usr/local/lib/python3.6/dist-packages/tensorflow/python/ops/variables.py\", line 213, in __call__\n    return cls._variable_v1_call(*args, **kwargs)\n  File \"/usr/local/lib/python3.6/dist-packages/tensorflow/python/ops/variables.py\", line 176, in _variable_v1_call\n    aggregation=aggregation)\n  File \"/usr/local/lib/python3.6/dist-packages/tensorflow/python/ops/variables.py\", line 155, in <lambda>\n    previous_getter = lambda **kwargs: default_variable_creator(None, **kwargs)\n  File \"/usr/local/lib/python3.6/dist-packages/tensorflow/python/ops/variable_scope.py\", line 2495, in default_variable_creator\n    expected_shape=expected_shape, import_scope=import_scope)\n  File \"/usr/local/lib/python3.6/dist-packages/tensorflow/python/ops/variables.py\", line 217, in __call__\n    return super(VariableMetaclass, cls).__call__(*args, **kwargs)\n  File \"/usr/local/lib/python3.6/dist-packages/tensorflow/python/ops/variables.py\", line 1395, in __init__\n    constraint=constraint)\n  File \"/usr/local/lib/python3.6/dist-packages/tensorflow/python/ops/variables.py\", line 1557, in _init_from_args\n    self._snapshot = array_ops.identity(self._variable, name=\"read\")\n  File \"/usr/local/lib/python3.6/dist-packages/tensorflow/python/util/dispatch.py\", line 180, in wrapper\n    return target(*args, **kwargs)\n  File \"/usr/local/lib/python3.6/dist-packages/tensorflow/python/ops/array_ops.py\", line 81, in identity\n    ret = gen_array_ops.identity(input, name=name)\n  File \"/usr/local/lib/python3.6/dist-packages/tensorflow/python/ops/gen_array_ops.py\", line 3890, in identity\n    \"Identity\", input=input, name=name)\n  File \"/usr/local/lib/python3.6/dist-packages/tensorflow/python/framework/op_def_library.py\", line 788, in _apply_op_helper\n    op_def=op_def)\n  File \"/usr/local/lib/python3.6/dist-packages/tensorflow/python/util/deprecation.py\", line 507, in new_func\n    return func(*args, **kwargs)\n  File \"/usr/local/lib/python3.6/dist-packages/tensorflow/python/framework/ops.py\", line 3300, in create_op\n    op_def=op_def)\n  File \"/usr/local/lib/python3.6/dist-packages/tensorflow/python/framework/ops.py\", line 1801, in __init__\n    self._traceback = tf_stack.extract_stack()\n\nFailedPreconditionError (see above for traceback): Attempting to use uninitialized value dense3/b\n\t [[node dense3/b/read (defined at <ipython-input-17-c2307d23d0a0>:99) ]]\n\t [[node softmax_test/Softmax (defined at <ipython-input-17-c2307d23d0a0>:141) ]]\n"
          ]
        }
      ]
    },
    {
      "cell_type": "code",
      "metadata": {
        "id": "UKgICByiayEo",
        "colab_type": "code",
        "colab": {}
      },
      "source": [
        ""
      ],
      "execution_count": 0,
      "outputs": []
    }
  ]
}