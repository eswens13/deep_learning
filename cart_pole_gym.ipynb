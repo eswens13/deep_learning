{
  "nbformat": 4,
  "nbformat_minor": 0,
  "metadata": {
    "colab": {
      "name": "cart_pole_gym.ipynb",
      "provenance": [],
      "include_colab_link": true
    },
    "kernelspec": {
      "name": "python3",
      "display_name": "Python 3"
    },
    "accelerator": "GPU"
  },
  "cells": [
    {
      "cell_type": "markdown",
      "metadata": {
        "id": "view-in-github",
        "colab_type": "text"
      },
      "source": [
        "<a href=\"https://colab.research.google.com/github/eswens13/deep_learning/blob/master/cart_pole_gym.ipynb\" target=\"_parent\"><img src=\"https://colab.research.google.com/assets/colab-badge.svg\" alt=\"Open In Colab\"/></a>"
      ]
    },
    {
      "cell_type": "code",
      "metadata": {
        "id": "Imx47lXUlfzd",
        "colab_type": "code",
        "colab": {}
      },
      "source": [
        "#remove \" > /dev/null 2>&1\" to see what is going on under the hood\n",
        "!pip install gym pyvirtualdisplay > /dev/null 2>&1\n",
        "!apt-get install -y xvfb python-opengl ffmpeg > /dev/null 2>&1"
      ],
      "execution_count": 0,
      "outputs": []
    },
    {
      "cell_type": "code",
      "metadata": {
        "id": "UVz_RqD31W3V",
        "colab_type": "code",
        "outputId": "dfdaeff2-f2a1-47d9-e860-4c852ebc19b0",
        "colab": {
          "base_uri": "https://localhost:8080/",
          "height": 190
        }
      },
      "source": [
        "!pip install pyglet==1.3.2"
      ],
      "execution_count": 2,
      "outputs": [
        {
          "output_type": "stream",
          "text": [
            "Collecting pyglet==1.3.2\n",
            "\u001b[?25l  Downloading https://files.pythonhosted.org/packages/1c/fc/dad5eaaab68f0c21e2f906a94ddb98175662cc5a654eee404d59554ce0fa/pyglet-1.3.2-py2.py3-none-any.whl (1.0MB)\n",
            "\u001b[K     |████████████████████████████████| 1.0MB 5.0MB/s \n",
            "\u001b[?25hRequirement already satisfied: future in /usr/local/lib/python3.6/dist-packages (from pyglet==1.3.2) (0.16.0)\n",
            "Installing collected packages: pyglet\n",
            "  Found existing installation: pyglet 1.4.4\n",
            "    Uninstalling pyglet-1.4.4:\n",
            "      Successfully uninstalled pyglet-1.4.4\n",
            "Successfully installed pyglet-1.3.2\n"
          ],
          "name": "stdout"
        }
      ]
    },
    {
      "cell_type": "code",
      "metadata": {
        "id": "BqrAs0b7sK_L",
        "colab_type": "code",
        "colab": {}
      },
      "source": [
        "import gym\n",
        "from gym import logger as gymlogger\n",
        "from gym.wrappers import Monitor\n",
        "#gymlogger.set_level(40) #error only\n",
        "import tensorflow as tf\n",
        "import numpy as np\n",
        "import random\n",
        "import matplotlib\n",
        "import matplotlib.pyplot as plt\n",
        "%matplotlib inline\n",
        "import math\n",
        "import glob\n",
        "import io\n",
        "import base64\n",
        "from IPython.display import HTML\n",
        "\n",
        "from IPython import display as ipythondisplay"
      ],
      "execution_count": 0,
      "outputs": []
    },
    {
      "cell_type": "code",
      "metadata": {
        "id": "zwTnlh3gmkQW",
        "colab_type": "code",
        "outputId": "576065d2-93a7-4c23-ec00-9653e39f4688",
        "colab": {
          "base_uri": "https://localhost:8080/",
          "height": 71
        }
      },
      "source": [
        "from pyvirtualdisplay import Display\n",
        "display = Display(visible=0, size=(1400, 900))\n",
        "display.start()\n",
        "# You can just ignore the warning 'xdpyinfo was not found' for now."
      ],
      "execution_count": 4,
      "outputs": [
        {
          "output_type": "stream",
          "text": [
            "xdpyinfo was not found, X start can not be checked! Please install xdpyinfo!\n"
          ],
          "name": "stderr"
        },
        {
          "output_type": "execute_result",
          "data": {
            "text/plain": [
              "<Display cmd_param=['Xvfb', '-br', '-nolisten', 'tcp', '-screen', '0', '1400x900x24', ':1001'] cmd=['Xvfb', '-br', '-nolisten', 'tcp', '-screen', '0', '1400x900x24', ':1001'] oserror=None return_code=None stdout=\"None\" stderr=\"None\" timeout_happened=False>"
            ]
          },
          "metadata": {
            "tags": []
          },
          "execution_count": 4
        }
      ]
    },
    {
      "cell_type": "code",
      "metadata": {
        "id": "UvYHQI8Fq7LF",
        "colab_type": "code",
        "colab": {}
      },
      "source": [
        "# Utility functions to enable video recording of gym environment and displaying\n",
        "# it. To enable video, just do:\n",
        "#   \"env = wrap_env(env)\"\n",
        "\n",
        "def show_video():\n",
        "  mp4list = glob.glob('video/*.mp4')\n",
        "  if len(mp4list) > 0:\n",
        "    mp4 = mp4list[0]\n",
        "    video = io.open(mp4, 'r+b').read()\n",
        "    encoded = base64.b64encode(video)\n",
        "    ipythondisplay.display(HTML(data='''<video alt=\"test\" autoplay \n",
        "                loop controls style=\"height: 400px;\">\n",
        "                <source src=\"data:video/mp4;base64,{0}\" type=\"video/mp4\" />\n",
        "             </video>'''.format(encoded.decode('ascii'))))\n",
        "  else: \n",
        "    print(\"Could not find video\")\n",
        "    \n",
        "\n",
        "def wrap_env(env):\n",
        "  env = Monitor(env, './video', force=True)\n",
        "  return env"
      ],
      "execution_count": 0,
      "outputs": []
    },
    {
      "cell_type": "code",
      "metadata": {
        "id": "Nh4JWSVir3lN",
        "colab_type": "code",
        "colab": {}
      },
      "source": [
        "# Where ENV_NAME is the environment that are using from Gym, eg 'CartPole-v0'\n",
        "ENV_NAME = 'CartPole-v0'\n",
        "env = wrap_env(gym.make(ENV_NAME)) #wrapping the env to render as a video"
      ],
      "execution_count": 0,
      "outputs": []
    },
    {
      "cell_type": "code",
      "metadata": {
        "id": "1YnvwQJ00FZ0",
        "colab_type": "code",
        "outputId": "686a96be-a68f-41e8-f28d-cd96ab854a86",
        "colab": {
          "base_uri": "https://localhost:8080/",
          "height": 51
        }
      },
      "source": [
        "# Check out the action and observation spaces.\n",
        "#\n",
        "# According to the GitHub\n",
        "# (https://github.com/openai/gym/blob/master/gym/envs/classic_control/cartpole.py),\n",
        "# the discrete action space is defined as follows:\n",
        "#\n",
        "#     0 - Push the cart to the left\n",
        "#     1 - Push the cart to the right\n",
        "#\n",
        "# and the continuous observation (state) space is defined as follows:\n",
        "#\n",
        "#     Num\tObservation               Min             Max\n",
        "#       0\tCart Position             -4.8            4.8\n",
        "#       1\tCart Velocity             -Inf            Inf\n",
        "#       2\tPole Angle                 -24 deg        24 deg\n",
        "#       3\tPole Velocity At Tip      -Inf            Inf\n",
        "#\n",
        "print(env.action_space)\n",
        "print(env.observation_space)"
      ],
      "execution_count": 7,
      "outputs": [
        {
          "output_type": "stream",
          "text": [
            "Discrete(2)\n",
            "Box(4,)\n"
          ],
          "name": "stdout"
        }
      ]
    },
    {
      "cell_type": "code",
      "metadata": {
        "id": "ay4IYvlkx1ag",
        "colab_type": "code",
        "outputId": "6cf22a3a-0041-45d3-c974-6b79c8e46e97",
        "colab": {
          "base_uri": "https://localhost:8080/",
          "height": 659
        }
      },
      "source": [
        "# The video that is generated ends very quickly. After examining the code for\n",
        "# the CartPole environment, I found that the threshold on the angle of the pole\n",
        "# before the environment considers itself done is 12 degrees. Obviously, with a\n",
        "# random selection policy, this will be hit very quickly.\n",
        "for i_episode in range(20):\n",
        "  env.reset()\n",
        "  for t in range(100):\n",
        "      env.render()\n",
        "      action = env.action_space.sample() # Choose randomly between push left or\n",
        "                                         # push right\n",
        "      observation, reward, done, info = env.step(action)\n",
        "      # Just take a look a the first observation:\n",
        "      if (i_episode == 0) and (t == 0):\n",
        "        print(\"Initial State:\")\n",
        "        print(\"\\tCart Position: {}\\n\\tCart Velocity: {}\".format( \\\n",
        "                  observation[0], observation[1]))\n",
        "        print(\"\\tPole Angle: {}\\n\\tPole Velocity: {}\\n\".format( \\\n",
        "                  observation[2], observation[3]))\n",
        "\n",
        "      if done:\n",
        "        if (i_episode == 0):\n",
        "          print(\"Episode finished after {} timesteps\\n\".format(t+1))\n",
        "          print(\"Final State:\")\n",
        "          print(\"\\tCart Position: {}\\n\\tCart Velocity: {}\".format( \\\n",
        "                  observation[0], observation[1]))\n",
        "          print(\"\\tPole Angle: {}\\n\\tPole Velocity: {}\\n\".format( \\\n",
        "                  observation[2], observation[3]))\n",
        "        break;\n",
        "env.close()\n",
        "show_video()"
      ],
      "execution_count": 15,
      "outputs": [
        {
          "output_type": "stream",
          "text": [
            "Initial State:\n",
            "\tCart Position: -0.024594046115470173\n",
            "\tCart Velocity: 0.19481128457963176\n",
            "\tPole Angle: 0.010110491143967806\n",
            "\tPole Velocity: -0.23986941257371275\n",
            "\n",
            "Episode finished after 13 timesteps\n",
            "\n",
            "Final State:\n",
            "\tCart Position: 0.1474584708655252\n",
            "\tCart Velocity: 0.9852380681873425\n",
            "\tPole Angle: -0.24563535846873222\n",
            "\tPole Velocity: -1.6736593526331998\n",
            "\n"
          ],
          "name": "stdout"
        },
        {
          "output_type": "display_data",
          "data": {
            "text/html": [
              "<video alt=\"test\" autoplay \n",
              "                loop controls style=\"height: 400px;\">\n",
              "                <source src=\"data:video/mp4;base64,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\" type=\"video/mp4\" />\n",
              "             </video>"
            ],
            "text/plain": [
              "<IPython.core.display.HTML object>"
            ]
          },
          "metadata": {
            "tags": []
          }
        }
      ]
    },
    {
      "cell_type": "code",
      "metadata": {
        "id": "1tVUSd1Pk8Ie",
        "colab_type": "code",
        "colab": {
          "base_uri": "https://localhost:8080/",
          "height": 343
        },
        "outputId": "20bbe555-bc58-4bf3-8002-9c3d1fba0f19"
      },
      "source": [
        "# Define the TensorFlow model we'll use to learn how to keep the pole up.\n",
        "def forward_pass(x):\n",
        "  y = tf.layers.dense(x, 4, activation='relu', kernel_initializer=tf.random_normal_initializer(), bias_initializer=tf.zeros_initializer())\n",
        "  y = tf.layers.dense(y, 4, activation='relu', kernel_initializer=tf.random_normal_initializer(), bias_initializer=tf.zeros_initializer())\n",
        "  y = tf.layers.dense(y, 4, activation='relu', kernel_initializer=tf.random_normal_initializer(), bias_initializer=tf.zeros_initializer())\n",
        "  y = tf.layers.dense(y, 2, kernel_initializer=tf.random_normal_initializer(), bias_initializer=tf.zeros_initializer())\n",
        "  probs = tf.nn.softmax(y)\n",
        "  return probs\n",
        "\n",
        "inputs = np.random.rand(10, 4)\n",
        "tf.reset_default_graph()\n",
        "with tf.Session() as sess:\n",
        "  x = tf.placeholder(tf.float32, shape=(10, 4))\n",
        "  probs = forward_pass(x)\n",
        "\n",
        "  sess.run(tf.initialize_all_variables())\n",
        "\n",
        "  probs = sess.run(probs, feed_dict={x: inputs})\n",
        "  print(\"Outputs: {}\".format(probs))"
      ],
      "execution_count": 52,
      "outputs": [
        {
          "output_type": "stream",
          "text": [
            "WARNING:tensorflow:Entity <bound method Dense.call of <tensorflow.python.layers.core.Dense object at 0x7f8033b438d0>> could not be transformed and will be executed as-is. Please report this to the AutgoGraph team. When filing the bug, set the verbosity to 10 (on Linux, `export AUTOGRAPH_VERBOSITY=10`) and attach the full output. Cause: converting <bound method Dense.call of <tensorflow.python.layers.core.Dense object at 0x7f8033b438d0>>: AssertionError: Bad argument number for Name: 3, expecting 4\n",
            "WARNING: Entity <bound method Dense.call of <tensorflow.python.layers.core.Dense object at 0x7f8033b438d0>> could not be transformed and will be executed as-is. Please report this to the AutgoGraph team. When filing the bug, set the verbosity to 10 (on Linux, `export AUTOGRAPH_VERBOSITY=10`) and attach the full output. Cause: converting <bound method Dense.call of <tensorflow.python.layers.core.Dense object at 0x7f8033b438d0>>: AssertionError: Bad argument number for Name: 3, expecting 4\n",
            "WARNING:tensorflow:Entity <bound method Dense.call of <tensorflow.python.layers.core.Dense object at 0x7f80357146d8>> could not be transformed and will be executed as-is. Please report this to the AutgoGraph team. When filing the bug, set the verbosity to 10 (on Linux, `export AUTOGRAPH_VERBOSITY=10`) and attach the full output. Cause: converting <bound method Dense.call of <tensorflow.python.layers.core.Dense object at 0x7f80357146d8>>: AssertionError: Bad argument number for Name: 3, expecting 4\n",
            "WARNING: Entity <bound method Dense.call of <tensorflow.python.layers.core.Dense object at 0x7f80357146d8>> could not be transformed and will be executed as-is. Please report this to the AutgoGraph team. When filing the bug, set the verbosity to 10 (on Linux, `export AUTOGRAPH_VERBOSITY=10`) and attach the full output. Cause: converting <bound method Dense.call of <tensorflow.python.layers.core.Dense object at 0x7f80357146d8>>: AssertionError: Bad argument number for Name: 3, expecting 4\n",
            "WARNING:tensorflow:Entity <bound method Dense.call of <tensorflow.python.layers.core.Dense object at 0x7f8035714b70>> could not be transformed and will be executed as-is. Please report this to the AutgoGraph team. When filing the bug, set the verbosity to 10 (on Linux, `export AUTOGRAPH_VERBOSITY=10`) and attach the full output. Cause: converting <bound method Dense.call of <tensorflow.python.layers.core.Dense object at 0x7f8035714b70>>: AssertionError: Bad argument number for Name: 3, expecting 4\n",
            "WARNING: Entity <bound method Dense.call of <tensorflow.python.layers.core.Dense object at 0x7f8035714b70>> could not be transformed and will be executed as-is. Please report this to the AutgoGraph team. When filing the bug, set the verbosity to 10 (on Linux, `export AUTOGRAPH_VERBOSITY=10`) and attach the full output. Cause: converting <bound method Dense.call of <tensorflow.python.layers.core.Dense object at 0x7f8035714b70>>: AssertionError: Bad argument number for Name: 3, expecting 4\n",
            "WARNING:tensorflow:Entity <bound method Dense.call of <tensorflow.python.layers.core.Dense object at 0x7f8035714b70>> could not be transformed and will be executed as-is. Please report this to the AutgoGraph team. When filing the bug, set the verbosity to 10 (on Linux, `export AUTOGRAPH_VERBOSITY=10`) and attach the full output. Cause: converting <bound method Dense.call of <tensorflow.python.layers.core.Dense object at 0x7f8035714b70>>: AssertionError: Bad argument number for Name: 3, expecting 4\n",
            "WARNING: Entity <bound method Dense.call of <tensorflow.python.layers.core.Dense object at 0x7f8035714b70>> could not be transformed and will be executed as-is. Please report this to the AutgoGraph team. When filing the bug, set the verbosity to 10 (on Linux, `export AUTOGRAPH_VERBOSITY=10`) and attach the full output. Cause: converting <bound method Dense.call of <tensorflow.python.layers.core.Dense object at 0x7f8035714b70>>: AssertionError: Bad argument number for Name: 3, expecting 4\n",
            "Outputs: [[9.7633255e-01 2.3667514e-02]\n",
            " [9.9989104e-01 1.0899893e-04]\n",
            " [9.5241082e-01 4.7589116e-02]\n",
            " [9.9525082e-01 4.7491649e-03]\n",
            " [9.8786724e-01 1.2132736e-02]\n",
            " [8.7377512e-01 1.2622488e-01]\n",
            " [8.6599147e-01 1.3400859e-01]\n",
            " [9.9997604e-01 2.3907542e-05]\n",
            " [9.3069655e-01 6.9303460e-02]\n",
            " [9.9884605e-01 1.1539449e-03]]\n"
          ],
          "name": "stdout"
        }
      ]
    },
    {
      "cell_type": "code",
      "metadata": {
        "id": "iCjmf6yVurdi",
        "colab_type": "code",
        "colab": {}
      },
      "source": [
        ""
      ],
      "execution_count": 0,
      "outputs": []
    }
  ]
}