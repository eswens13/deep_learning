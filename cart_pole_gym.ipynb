{
  "nbformat": 4,
  "nbformat_minor": 0,
  "metadata": {
    "colab": {
      "name": "cart_pole_gym.ipynb",
      "provenance": [],
      "include_colab_link": true
    },
    "kernelspec": {
      "name": "python3",
      "display_name": "Python 3"
    },
    "accelerator": "GPU"
  },
  "cells": [
    {
      "cell_type": "markdown",
      "metadata": {
        "id": "view-in-github",
        "colab_type": "text"
      },
      "source": [
        "<a href=\"https://colab.research.google.com/github/eswens13/deep_learning/blob/master/cart_pole_gym.ipynb\" target=\"_parent\"><img src=\"https://colab.research.google.com/assets/colab-badge.svg\" alt=\"Open In Colab\"/></a>"
      ]
    },
    {
      "cell_type": "code",
      "metadata": {
        "id": "Imx47lXUlfzd",
        "colab_type": "code",
        "colab": {}
      },
      "source": [
        "#remove \" > /dev/null 2>&1\" to see what is going on under the hood\n",
        "!pip install gym pyvirtualdisplay > /dev/null 2>&1\n",
        "!apt-get install -y xvfb python-opengl ffmpeg > /dev/null 2>&1"
      ],
      "execution_count": 0,
      "outputs": []
    },
    {
      "cell_type": "code",
      "metadata": {
        "id": "UVz_RqD31W3V",
        "colab_type": "code",
        "colab": {
          "base_uri": "https://localhost:8080/",
          "height": 276
        },
        "outputId": "823971e7-2212-47e4-da46-b29ee31f106f"
      },
      "source": [
        "!pip install pyglet==1.3.2"
      ],
      "execution_count": 10,
      "outputs": [
        {
          "output_type": "stream",
          "text": [
            "Collecting pyglet==1.3.2\n",
            "\u001b[?25l  Downloading https://files.pythonhosted.org/packages/1c/fc/dad5eaaab68f0c21e2f906a94ddb98175662cc5a654eee404d59554ce0fa/pyglet-1.3.2-py2.py3-none-any.whl (1.0MB)\n",
            "\u001b[K     |████████████████████████████████| 1.0MB 6.2MB/s \n",
            "\u001b[?25hRequirement already satisfied: future in /usr/local/lib/python3.6/dist-packages (from pyglet==1.3.2) (0.16.0)\n",
            "Installing collected packages: pyglet\n",
            "  Found existing installation: pyglet 1.4.4\n",
            "    Uninstalling pyglet-1.4.4:\n",
            "      Successfully uninstalled pyglet-1.4.4\n",
            "Successfully installed pyglet-1.3.2\n"
          ],
          "name": "stdout"
        },
        {
          "output_type": "display_data",
          "data": {
            "application/vnd.colab-display-data+json": {
              "pip_warning": {
                "packages": [
                  "pyglet"
                ]
              }
            }
          },
          "metadata": {
            "tags": []
          }
        }
      ]
    },
    {
      "cell_type": "code",
      "metadata": {
        "id": "BqrAs0b7sK_L",
        "colab_type": "code",
        "colab": {}
      },
      "source": [
        "import gym\n",
        "from gym import logger as gymlogger\n",
        "from gym.wrappers import Monitor\n",
        "#gymlogger.set_level(40) #error only\n",
        "import tensorflow as tf\n",
        "import numpy as np\n",
        "import random\n",
        "import matplotlib\n",
        "import matplotlib.pyplot as plt\n",
        "%matplotlib inline\n",
        "import math\n",
        "import glob\n",
        "import io\n",
        "import base64\n",
        "from IPython.display import HTML\n",
        "\n",
        "from IPython import display as ipythondisplay"
      ],
      "execution_count": 0,
      "outputs": []
    },
    {
      "cell_type": "code",
      "metadata": {
        "id": "zwTnlh3gmkQW",
        "colab_type": "code",
        "colab": {
          "base_uri": "https://localhost:8080/",
          "height": 71
        },
        "outputId": "844522b0-25f2-479f-8751-53d778b5858c"
      },
      "source": [
        "from pyvirtualdisplay import Display\n",
        "display = Display(visible=0, size=(1400, 900))\n",
        "display.start()"
      ],
      "execution_count": 18,
      "outputs": [
        {
          "output_type": "stream",
          "text": [
            "xdpyinfo was not found, X start can not be checked! Please install xdpyinfo!\n"
          ],
          "name": "stderr"
        },
        {
          "output_type": "execute_result",
          "data": {
            "text/plain": [
              "<Display cmd_param=['Xvfb', '-br', '-nolisten', 'tcp', '-screen', '0', '1400x900x24', ':1009'] cmd=['Xvfb', '-br', '-nolisten', 'tcp', '-screen', '0', '1400x900x24', ':1009'] oserror=None return_code=None stdout=\"None\" stderr=\"None\" timeout_happened=False>"
            ]
          },
          "metadata": {
            "tags": []
          },
          "execution_count": 18
        }
      ]
    },
    {
      "cell_type": "code",
      "metadata": {
        "id": "UvYHQI8Fq7LF",
        "colab_type": "code",
        "colab": {}
      },
      "source": [
        "\"\"\"\n",
        "Utility functions to enable video recording of gym environment and displaying it\n",
        "To enable video, just do \"env = wrap_env(env)\"\"\n",
        "\"\"\"\n",
        "\n",
        "def show_video():\n",
        "  mp4list = glob.glob('video/*.mp4')\n",
        "  if len(mp4list) > 0:\n",
        "    mp4 = mp4list[0]\n",
        "    video = io.open(mp4, 'r+b').read()\n",
        "    encoded = base64.b64encode(video)\n",
        "    ipythondisplay.display(HTML(data='''<video alt=\"test\" autoplay \n",
        "                loop controls style=\"height: 400px;\">\n",
        "                <source src=\"data:video/mp4;base64,{0}\" type=\"video/mp4\" />\n",
        "             </video>'''.format(encoded.decode('ascii'))))\n",
        "  else: \n",
        "    print(\"Could not find video\")\n",
        "    \n",
        "\n",
        "def wrap_env(env):\n",
        "  env = Monitor(env, './video', force=True)\n",
        "  return env"
      ],
      "execution_count": 0,
      "outputs": []
    },
    {
      "cell_type": "code",
      "metadata": {
        "id": "Nh4JWSVir3lN",
        "colab_type": "code",
        "colab": {}
      },
      "source": [
        "#Where ENV_NAME is the environment that are using from Gym, eg 'CartPole-v0'\n",
        "ENV_NAME = 'CartPole-v0'\n",
        "env = wrap_env(gym.make(ENV_NAME)) #wrapping the env to render as a video"
      ],
      "execution_count": 0,
      "outputs": []
    },
    {
      "cell_type": "code",
      "metadata": {
        "id": "1YnvwQJ00FZ0",
        "colab_type": "code",
        "colab": {
          "base_uri": "https://localhost:8080/",
          "height": 51
        },
        "outputId": "e858a192-b954-4061-895e-0f0c13a9d4b3"
      },
      "source": [
        "#check out the pacman action space!\n",
        "print(env.action_space)\n",
        "print(env.observation_space)"
      ],
      "execution_count": 26,
      "outputs": [
        {
          "output_type": "stream",
          "text": [
            "Discrete(2)\n",
            "Box(4,)\n"
          ],
          "name": "stdout"
        }
      ]
    },
    {
      "cell_type": "code",
      "metadata": {
        "id": "ay4IYvlkx1ag",
        "colab_type": "code",
        "colab": {
          "base_uri": "https://localhost:8080/",
          "height": 761
        },
        "outputId": "5eec237e-1fe3-410e-bcfc-e8a02a875847"
      },
      "source": [
        "for i_episode in range(20):\n",
        "  env.reset()\n",
        "  for t in range(100):\n",
        "      env.render()\n",
        "      action = env.action_space.sample()\n",
        "      observation, reward, done, info = env.step(action)\n",
        "\n",
        "      if done:\n",
        "        print(\"Episode finished after {} timesteps\".format(t+1))\n",
        "        break;\n",
        "env.close()\n",
        "show_video()"
      ],
      "execution_count": 25,
      "outputs": [
        {
          "output_type": "stream",
          "text": [
            "Episode finished after 15 timesteps\n",
            "Episode finished after 9 timesteps\n",
            "Episode finished after 24 timesteps\n",
            "Episode finished after 22 timesteps\n",
            "Episode finished after 18 timesteps\n",
            "Episode finished after 31 timesteps\n",
            "Episode finished after 40 timesteps\n",
            "Episode finished after 16 timesteps\n",
            "Episode finished after 32 timesteps\n",
            "Episode finished after 21 timesteps\n",
            "Episode finished after 50 timesteps\n",
            "Episode finished after 22 timesteps\n",
            "Episode finished after 35 timesteps\n",
            "Episode finished after 11 timesteps\n",
            "Episode finished after 19 timesteps\n",
            "Episode finished after 38 timesteps\n",
            "Episode finished after 17 timesteps\n",
            "Episode finished after 46 timesteps\n",
            "Episode finished after 15 timesteps\n",
            "Episode finished after 31 timesteps\n"
          ],
          "name": "stdout"
        },
        {
          "output_type": "display_data",
          "data": {
            "text/html": [
              "<video alt=\"test\" autoplay \n",
              "                loop controls style=\"height: 400px;\">\n",
              "                <source src=\"data:video/mp4;base64,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\" type=\"video/mp4\" />\n",
              "             </video>"
            ],
            "text/plain": [
              "<IPython.core.display.HTML object>"
            ]
          },
          "metadata": {
            "tags": []
          }
        }
      ]
    },
    {
      "cell_type": "code",
      "metadata": {
        "id": "K_RzP3Ga0XzT",
        "colab_type": "code",
        "colab": {}
      },
      "source": [
        ""
      ],
      "execution_count": 0,
      "outputs": []
    }
  ]
}